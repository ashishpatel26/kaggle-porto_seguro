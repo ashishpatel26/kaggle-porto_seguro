{
 "cells": [
  {
   "cell_type": "markdown",
   "metadata": {
    "nbpresent": {
     "id": "f077990f-f900-41a2-813f-ed6a132af703"
    }
   },
   "source": [
    "Zakarya Ali  \n",
    "Python pour un data scientist 2A - Xavier Dupré  \n",
    "[Kaggle Competition - Porto Seguro's Safe Driver Prediction](https://www.kaggle.com/c/porto-seguro-safe-driver-prediction)  "
   ]
  },
  {
   "cell_type": "markdown",
   "metadata": {
    "nbpresent": {
     "id": "df95d311-2ee5-4de8-812f-cae4acd76c39"
    }
   },
   "source": [
    "# Introduction\n",
    "Porto Seguro is a Brazilian insurance company. One of its most important market is the driver insurance. This is a sector where it is quite difficult to assess with certainty which customer will soon file an insurance claim. In order to better its insurance claim predictions, the company launched a Kaggle competition whose winner will not only win a 25000$ prize, but will be able to implement his/her idea.  \n",
    "In this notebook, we aim at analyzing the dataset delivered by the brazilian company, and implementing a machine learning model to predict the insurance claims."
   ]
  },
  {
   "cell_type": "code",
   "execution_count": 1,
   "metadata": {
    "collapsed": false,
    "nbpresent": {
     "id": "4acdc595-b193-4541-bbdd-92e0682ec001"
    }
   },
   "outputs": [],
   "source": [
    "#We import the Python modules we will use in this notebook\n",
    "%matplotlib inline\n",
    "import time\n",
    "import numpy as np\n",
    "import pandas as pd\n",
    "import seaborn as sns\n",
    "import matplotlib.pyplot as plt\n",
    "import torch\n",
    "import torch.nn as nn\n",
    "import torch.nn.functional as F\n",
    "import torch.optim as optim\n",
    "from torch.autograd import Variable\n",
    "from torchvision import datasets, transforms\n",
    "from tqdm import tqdm\n",
    "import psutil\n",
    "import os\n",
    "import logging\n",
    "import sys\n",
    "from sklearn.ensemble import RandomForestClassifier, GradientBoostingClassifier\n",
    "from imblearn.over_sampling import SMOTE \n",
    "from imblearn.under_sampling import CondensedNearestNeighbour\n",
    "from collections import Counter\n",
    "from sklearn import metrics\n",
    "from sklearn.model_selection import cross_val_score, StratifiedKFold, train_test_split\n",
    "from sklearn.preprocessing import StandardScaler\n",
    "import missingno"
   ]
  },
  {
   "cell_type": "markdown",
   "metadata": {
    "collapsed": true,
    "nbpresent": {
     "id": "a6537715-9204-4350-b1a2-d468fafcd4b2"
    }
   },
   "source": [
    "# Dataset Analysis\n",
    "Let's analyze the training dataset."
   ]
  },
  {
   "cell_type": "code",
   "execution_count": 2,
   "metadata": {
    "collapsed": false
   },
   "outputs": [
    {
     "data": {
      "text/html": [
       "<div>\n",
       "<style scoped>\n",
       "    .dataframe tbody tr th:only-of-type {\n",
       "        vertical-align: middle;\n",
       "    }\n",
       "\n",
       "    .dataframe tbody tr th {\n",
       "        vertical-align: top;\n",
       "    }\n",
       "\n",
       "    .dataframe thead th {\n",
       "        text-align: right;\n",
       "    }\n",
       "</style>\n",
       "<table border=\"1\" class=\"dataframe\">\n",
       "  <thead>\n",
       "    <tr style=\"text-align: right;\">\n",
       "      <th></th>\n",
       "      <th>id</th>\n",
       "      <th>target</th>\n",
       "      <th>ps_ind_01</th>\n",
       "      <th>ps_ind_02_cat</th>\n",
       "      <th>ps_ind_03</th>\n",
       "      <th>ps_ind_04_cat</th>\n",
       "      <th>ps_ind_05_cat</th>\n",
       "      <th>ps_ind_06_bin</th>\n",
       "      <th>ps_ind_07_bin</th>\n",
       "      <th>ps_ind_08_bin</th>\n",
       "      <th>...</th>\n",
       "      <th>ps_calc_11</th>\n",
       "      <th>ps_calc_12</th>\n",
       "      <th>ps_calc_13</th>\n",
       "      <th>ps_calc_14</th>\n",
       "      <th>ps_calc_15_bin</th>\n",
       "      <th>ps_calc_16_bin</th>\n",
       "      <th>ps_calc_17_bin</th>\n",
       "      <th>ps_calc_18_bin</th>\n",
       "      <th>ps_calc_19_bin</th>\n",
       "      <th>ps_calc_20_bin</th>\n",
       "    </tr>\n",
       "  </thead>\n",
       "  <tbody>\n",
       "    <tr>\n",
       "      <th>0</th>\n",
       "      <td>7</td>\n",
       "      <td>0</td>\n",
       "      <td>2</td>\n",
       "      <td>2</td>\n",
       "      <td>5</td>\n",
       "      <td>1</td>\n",
       "      <td>0</td>\n",
       "      <td>0</td>\n",
       "      <td>1</td>\n",
       "      <td>0</td>\n",
       "      <td>...</td>\n",
       "      <td>9</td>\n",
       "      <td>1</td>\n",
       "      <td>5</td>\n",
       "      <td>8</td>\n",
       "      <td>0</td>\n",
       "      <td>1</td>\n",
       "      <td>1</td>\n",
       "      <td>0</td>\n",
       "      <td>0</td>\n",
       "      <td>1</td>\n",
       "    </tr>\n",
       "    <tr>\n",
       "      <th>1</th>\n",
       "      <td>9</td>\n",
       "      <td>0</td>\n",
       "      <td>1</td>\n",
       "      <td>1</td>\n",
       "      <td>7</td>\n",
       "      <td>0</td>\n",
       "      <td>0</td>\n",
       "      <td>0</td>\n",
       "      <td>0</td>\n",
       "      <td>1</td>\n",
       "      <td>...</td>\n",
       "      <td>3</td>\n",
       "      <td>1</td>\n",
       "      <td>1</td>\n",
       "      <td>9</td>\n",
       "      <td>0</td>\n",
       "      <td>1</td>\n",
       "      <td>1</td>\n",
       "      <td>0</td>\n",
       "      <td>1</td>\n",
       "      <td>0</td>\n",
       "    </tr>\n",
       "    <tr>\n",
       "      <th>2</th>\n",
       "      <td>13</td>\n",
       "      <td>0</td>\n",
       "      <td>5</td>\n",
       "      <td>4</td>\n",
       "      <td>9</td>\n",
       "      <td>1</td>\n",
       "      <td>0</td>\n",
       "      <td>0</td>\n",
       "      <td>0</td>\n",
       "      <td>1</td>\n",
       "      <td>...</td>\n",
       "      <td>4</td>\n",
       "      <td>2</td>\n",
       "      <td>7</td>\n",
       "      <td>7</td>\n",
       "      <td>0</td>\n",
       "      <td>1</td>\n",
       "      <td>1</td>\n",
       "      <td>0</td>\n",
       "      <td>1</td>\n",
       "      <td>0</td>\n",
       "    </tr>\n",
       "    <tr>\n",
       "      <th>3</th>\n",
       "      <td>16</td>\n",
       "      <td>0</td>\n",
       "      <td>0</td>\n",
       "      <td>1</td>\n",
       "      <td>2</td>\n",
       "      <td>0</td>\n",
       "      <td>0</td>\n",
       "      <td>1</td>\n",
       "      <td>0</td>\n",
       "      <td>0</td>\n",
       "      <td>...</td>\n",
       "      <td>2</td>\n",
       "      <td>2</td>\n",
       "      <td>4</td>\n",
       "      <td>9</td>\n",
       "      <td>0</td>\n",
       "      <td>0</td>\n",
       "      <td>0</td>\n",
       "      <td>0</td>\n",
       "      <td>0</td>\n",
       "      <td>0</td>\n",
       "    </tr>\n",
       "    <tr>\n",
       "      <th>4</th>\n",
       "      <td>17</td>\n",
       "      <td>0</td>\n",
       "      <td>0</td>\n",
       "      <td>2</td>\n",
       "      <td>0</td>\n",
       "      <td>1</td>\n",
       "      <td>0</td>\n",
       "      <td>1</td>\n",
       "      <td>0</td>\n",
       "      <td>0</td>\n",
       "      <td>...</td>\n",
       "      <td>3</td>\n",
       "      <td>1</td>\n",
       "      <td>1</td>\n",
       "      <td>3</td>\n",
       "      <td>0</td>\n",
       "      <td>0</td>\n",
       "      <td>0</td>\n",
       "      <td>1</td>\n",
       "      <td>1</td>\n",
       "      <td>0</td>\n",
       "    </tr>\n",
       "  </tbody>\n",
       "</table>\n",
       "<p>5 rows × 59 columns</p>\n",
       "</div>"
      ],
      "text/plain": [
       "   id  target  ps_ind_01  ps_ind_02_cat  ps_ind_03  ps_ind_04_cat  \\\n",
       "0   7       0          2              2          5              1   \n",
       "1   9       0          1              1          7              0   \n",
       "2  13       0          5              4          9              1   \n",
       "3  16       0          0              1          2              0   \n",
       "4  17       0          0              2          0              1   \n",
       "\n",
       "   ps_ind_05_cat  ps_ind_06_bin  ps_ind_07_bin  ps_ind_08_bin       ...        \\\n",
       "0              0              0              1              0       ...         \n",
       "1              0              0              0              1       ...         \n",
       "2              0              0              0              1       ...         \n",
       "3              0              1              0              0       ...         \n",
       "4              0              1              0              0       ...         \n",
       "\n",
       "   ps_calc_11  ps_calc_12  ps_calc_13  ps_calc_14  ps_calc_15_bin  \\\n",
       "0           9           1           5           8               0   \n",
       "1           3           1           1           9               0   \n",
       "2           4           2           7           7               0   \n",
       "3           2           2           4           9               0   \n",
       "4           3           1           1           3               0   \n",
       "\n",
       "   ps_calc_16_bin  ps_calc_17_bin  ps_calc_18_bin  ps_calc_19_bin  \\\n",
       "0               1               1               0               0   \n",
       "1               1               1               0               1   \n",
       "2               1               1               0               1   \n",
       "3               0               0               0               0   \n",
       "4               0               0               1               1   \n",
       "\n",
       "   ps_calc_20_bin  \n",
       "0               1  \n",
       "1               0  \n",
       "2               0  \n",
       "3               0  \n",
       "4               0  \n",
       "\n",
       "[5 rows x 59 columns]"
      ]
     },
     "execution_count": 2,
     "metadata": {},
     "output_type": "execute_result"
    }
   ],
   "source": [
    "train_dir = \"data/train/\"\n",
    "train = pd.read_csv(train_dir + \"train.csv\", sep=\",\", encoding=\"utf8\", low_memory=False)\n",
    "train.head()"
   ]
  },
  {
   "cell_type": "code",
   "execution_count": 3,
   "metadata": {
    "collapsed": false
   },
   "outputs": [
    {
     "data": {
      "text/plain": [
       "(595212, 59)"
      ]
     },
     "execution_count": 3,
     "metadata": {},
     "output_type": "execute_result"
    }
   ],
   "source": [
    "train.drop_duplicates().shape"
   ]
  },
  {
   "cell_type": "markdown",
   "metadata": {},
   "source": [
    "59 columns and almost 600000 observations with no duplicated lines. All the columns represent numeric values."
   ]
  },
  {
   "cell_type": "code",
   "execution_count": 4,
   "metadata": {
    "collapsed": false,
    "scrolled": true
   },
   "outputs": [
    {
     "name": "stdout",
     "output_type": "stream",
     "text": [
      "<class 'pandas.core.frame.DataFrame'>\n",
      "RangeIndex: 595212 entries, 0 to 595211\n",
      "Data columns (total 59 columns):\n",
      "id                595212 non-null int64\n",
      "target            595212 non-null int64\n",
      "ps_ind_01         595212 non-null int64\n",
      "ps_ind_02_cat     595212 non-null int64\n",
      "ps_ind_03         595212 non-null int64\n",
      "ps_ind_04_cat     595212 non-null int64\n",
      "ps_ind_05_cat     595212 non-null int64\n",
      "ps_ind_06_bin     595212 non-null int64\n",
      "ps_ind_07_bin     595212 non-null int64\n",
      "ps_ind_08_bin     595212 non-null int64\n",
      "ps_ind_09_bin     595212 non-null int64\n",
      "ps_ind_10_bin     595212 non-null int64\n",
      "ps_ind_11_bin     595212 non-null int64\n",
      "ps_ind_12_bin     595212 non-null int64\n",
      "ps_ind_13_bin     595212 non-null int64\n",
      "ps_ind_14         595212 non-null int64\n",
      "ps_ind_15         595212 non-null int64\n",
      "ps_ind_16_bin     595212 non-null int64\n",
      "ps_ind_17_bin     595212 non-null int64\n",
      "ps_ind_18_bin     595212 non-null int64\n",
      "ps_reg_01         595212 non-null float64\n",
      "ps_reg_02         595212 non-null float64\n",
      "ps_reg_03         595212 non-null float64\n",
      "ps_car_01_cat     595212 non-null int64\n",
      "ps_car_02_cat     595212 non-null int64\n",
      "ps_car_03_cat     595212 non-null int64\n",
      "ps_car_04_cat     595212 non-null int64\n",
      "ps_car_05_cat     595212 non-null int64\n",
      "ps_car_06_cat     595212 non-null int64\n",
      "ps_car_07_cat     595212 non-null int64\n",
      "ps_car_08_cat     595212 non-null int64\n",
      "ps_car_09_cat     595212 non-null int64\n",
      "ps_car_10_cat     595212 non-null int64\n",
      "ps_car_11_cat     595212 non-null int64\n",
      "ps_car_11         595212 non-null int64\n",
      "ps_car_12         595212 non-null float64\n",
      "ps_car_13         595212 non-null float64\n",
      "ps_car_14         595212 non-null float64\n",
      "ps_car_15         595212 non-null float64\n",
      "ps_calc_01        595212 non-null float64\n",
      "ps_calc_02        595212 non-null float64\n",
      "ps_calc_03        595212 non-null float64\n",
      "ps_calc_04        595212 non-null int64\n",
      "ps_calc_05        595212 non-null int64\n",
      "ps_calc_06        595212 non-null int64\n",
      "ps_calc_07        595212 non-null int64\n",
      "ps_calc_08        595212 non-null int64\n",
      "ps_calc_09        595212 non-null int64\n",
      "ps_calc_10        595212 non-null int64\n",
      "ps_calc_11        595212 non-null int64\n",
      "ps_calc_12        595212 non-null int64\n",
      "ps_calc_13        595212 non-null int64\n",
      "ps_calc_14        595212 non-null int64\n",
      "ps_calc_15_bin    595212 non-null int64\n",
      "ps_calc_16_bin    595212 non-null int64\n",
      "ps_calc_17_bin    595212 non-null int64\n",
      "ps_calc_18_bin    595212 non-null int64\n",
      "ps_calc_19_bin    595212 non-null int64\n",
      "ps_calc_20_bin    595212 non-null int64\n",
      "dtypes: float64(10), int64(49)\n",
      "memory usage: 267.9 MB\n"
     ]
    }
   ],
   "source": [
    "train.info()"
   ]
  },
  {
   "cell_type": "markdown",
   "metadata": {},
   "source": [
    "## Features\n",
    "We don't have much information regarding the features. None of them are described. The [competition data presentation](https://www.kaggle.com/c/porto-seguro-safe-driver-prediction/data) only gives a brief introduction.  \n",
    "- 'id' column : id of the observation\n",
    "- 'target' column : 1 if the observation concerns an insurance claim 0 if not. This is the column to predict\n",
    "\n",
    "Features whose names contain :\n",
    "- 'bin' are binary features \n",
    "- 'cat' are categorical features  \n",
    "\n",
    "On top of it, we assume :\n",
    "- integer variables are ordinal variable\n",
    "- float64 variables are numeric one\n"
   ]
  },
  {
   "cell_type": "code",
   "execution_count": 5,
   "metadata": {
    "collapsed": true
   },
   "outputs": [],
   "source": [
    "binary = []\n",
    "categorical = []\n",
    "ordinal = []\n",
    "numeric = []\n",
    "\n",
    "for c in train.columns:\n",
    "    if ('bin' in c):\n",
    "        binary.append(c)\n",
    "    if 'cat' in c:\n",
    "        categorical.append(c)\n",
    "    if ('bin' not in c) & ('cat' not in c) & (c in train.dtypes[train.dtypes=='int64']) & (c not in ['target', 'id']):\n",
    "        ordinal.append(c)\n",
    "    if ('bin' not in c) & ('cat' not in c) & (c in train.dtypes[train.dtypes=='float64']):\n",
    "        numeric.append(c)"
   ]
  },
  {
   "cell_type": "code",
   "execution_count": 6,
   "metadata": {
    "collapsed": false
   },
   "outputs": [
    {
     "name": "stdout",
     "output_type": "stream",
     "text": [
      "Binary columns :ps_ind_06_bin, ps_ind_07_bin, ps_ind_08_bin, ps_ind_09_bin, ps_ind_10_bin, ps_ind_11_bin, ps_ind_12_bin, ps_ind_13_bin, ps_ind_16_bin, ps_ind_17_bin, ps_ind_18_bin, ps_calc_15_bin, ps_calc_16_bin, ps_calc_17_bin, ps_calc_18_bin, ps_calc_19_bin, ps_calc_20_bin\n",
      "\n",
      "Categorical columns :ps_ind_02_cat, ps_ind_04_cat, ps_ind_05_cat, ps_car_01_cat, ps_car_02_cat, ps_car_03_cat, ps_car_04_cat, ps_car_05_cat, ps_car_06_cat, ps_car_07_cat, ps_car_08_cat, ps_car_09_cat, ps_car_10_cat, ps_car_11_cat\n",
      "\n",
      "Ordinal columns :ps_ind_01, ps_ind_03, ps_ind_14, ps_ind_15, ps_car_11, ps_calc_04, ps_calc_05, ps_calc_06, ps_calc_07, ps_calc_08, ps_calc_09, ps_calc_10, ps_calc_11, ps_calc_12, ps_calc_13, ps_calc_14\n",
      "\n",
      "Numeric columns :ps_reg_01, ps_reg_02, ps_reg_03, ps_car_12, ps_car_13, ps_car_14, ps_car_15, ps_calc_01, ps_calc_02, ps_calc_03\n"
     ]
    }
   ],
   "source": [
    "#Checking the features categories\n",
    "print('Binary columns :' + \", \".join(str(x) for x in binary))\n",
    "print('')\n",
    "print('Categorical columns :' + \", \".join(str(x) for x in categorical))\n",
    "print('')\n",
    "print('Ordinal columns :' + \", \".join(str(x) for x in ordinal))\n",
    "print('')\n",
    "print('Numeric columns :' + \", \".join(str(x) for x in numeric))"
   ]
  },
  {
   "cell_type": "markdown",
   "metadata": {},
   "source": [
    "## Missing values\n",
    "Some observations have missing information.\n",
    "From the [competition data presentation](https://www.kaggle.com/c/porto-seguro-safe-driver-prediction/data), we know missing values are noted \"-1\". We can find them using [missingno](https://github.com/ResidentMario/missingno), a missing data vizualisation module for Python."
   ]
  },
  {
   "cell_type": "code",
   "execution_count": 7,
   "metadata": {
    "collapsed": false
   },
   "outputs": [
    {
     "data": {
      "image/png": "[encoded data removed]",
      "text/plain": [
       "<matplotlib.figure.Figure at 0x7fae3ef1d350>"
      ]
     },
     "metadata": {},
     "output_type": "display_data"
    }
   ],
   "source": [
    "# Missing values by columns\n",
    "missingno.matrix(df=train.replace(-1, np.NaN).iloc[:,6:54], figsize=(20, 14), color=(0, 0, 0))"
   ]
  },
  {
   "cell_type": "markdown",
   "metadata": {},
   "source": [
    "As we can see, a few columns have missing values. To be more specific:"
   ]
  },
  {
   "cell_type": "code",
   "execution_count": 8,
   "metadata": {
    "collapsed": false
   },
   "outputs": [
    {
     "name": "stdout",
     "output_type": "stream",
     "text": [
      "ps_ind_02_cat has 0.036% missing values\n",
      "ps_ind_04_cat has 0.014% missing values\n",
      "ps_ind_05_cat has 0.976% missing values\n",
      "ps_reg_03 has 18.106% missing values\n",
      "ps_car_01_cat has 0.018% missing values\n",
      "ps_car_02_cat has 0.001% missing values\n",
      "ps_car_03_cat has 69.09% missing values\n",
      "ps_car_05_cat has 44.783% missing values\n",
      "ps_car_07_cat has 1.93% missing values\n",
      "ps_car_09_cat has 0.096% missing values\n",
      "ps_car_11 has 0.001% missing values\n",
      "ps_car_12 has 0.0% missing values\n",
      "ps_car_14 has 7.16% missing values\n"
     ]
    }
   ],
   "source": [
    "incomplete = train.columns[train.eq(-1).any()]\n",
    "\n",
    "#proportion of missing values for each column\n",
    "cols_to_fix_w_mean=[]\n",
    "for c in incomplete:\n",
    "    missings_values = train[train[c] == -1][c].count()\n",
    "    missings_perc = missings_values.astype(np.float32)/train.shape[0]*100\n",
    "    print(str(c) + ' has ' + str(np.round(missings_perc, 3)) + '% missing values')\n",
    "    if missings_perc<20:\n",
    "        cols_to_fix_w_mean.append(c)"
   ]
  },
  {
   "cell_type": "markdown",
   "metadata": {},
   "source": [
    "The two columns **ps_car_03_cat** and **ps_car_03_cat** have missing values rates higher than 40%. We should drop them as they don't give enough information. We'll see how to handle other features with fewer missing values in the dateset treatment section."
   ]
  },
  {
   "cell_type": "markdown",
   "metadata": {},
   "source": [
    "## Imbalanced Dataset\n",
    "By checking the \"target\" column, we want to see how the dataset is balanced, meaning what is the ratio of insurance claims within the observations. "
   ]
  },
  {
   "cell_type": "code",
   "execution_count": 9,
   "metadata": {
    "collapsed": false
   },
   "outputs": [
    {
     "data": {
      "text/html": [
       "<div>\n",
       "<style scoped>\n",
       "    .dataframe tbody tr th:only-of-type {\n",
       "        vertical-align: middle;\n",
       "    }\n",
       "\n",
       "    .dataframe tbody tr th {\n",
       "        vertical-align: top;\n",
       "    }\n",
       "\n",
       "    .dataframe thead th {\n",
       "        text-align: right;\n",
       "    }\n",
       "</style>\n",
       "<table border=\"1\" class=\"dataframe\">\n",
       "  <thead>\n",
       "    <tr style=\"text-align: right;\">\n",
       "      <th></th>\n",
       "      <th>target</th>\n",
       "      <th>count</th>\n",
       "    </tr>\n",
       "  </thead>\n",
       "  <tbody>\n",
       "    <tr>\n",
       "      <th>0</th>\n",
       "      <td>0</td>\n",
       "      <td>573518</td>\n",
       "    </tr>\n",
       "    <tr>\n",
       "      <th>1</th>\n",
       "      <td>1</td>\n",
       "      <td>21694</td>\n",
       "    </tr>\n",
       "  </tbody>\n",
       "</table>\n",
       "</div>"
      ],
      "text/plain": [
       "   target   count\n",
       "0       0  573518\n",
       "1       1   21694"
      ]
     },
     "execution_count": 9,
     "metadata": {},
     "output_type": "execute_result"
    }
   ],
   "source": [
    "target_group = train.groupby(['target']).size()\n",
    "target_count = target_group.to_frame()\n",
    "target_count = target_count.reset_index()\n",
    "target_count = target_count.rename({0: \"count\"}, axis='columns')\n",
    "target_count"
   ]
  },
  {
   "cell_type": "code",
   "execution_count": 10,
   "metadata": {
    "collapsed": false
   },
   "outputs": [
    {
     "data": {
      "image/png": "[encoded data removed]",
      "text/plain": [
       "<matplotlib.figure.Figure at 0x7fadd4b05990>"
      ]
     },
     "metadata": {},
     "output_type": "display_data"
    }
   ],
   "source": [
    "#Target visualization\n",
    "ax = sns.barplot(x=\"target\", y=\"count\", data=target_count, ci=None)"
   ]
  },
  {
   "cell_type": "code",
   "execution_count": 11,
   "metadata": {
    "collapsed": false
   },
   "outputs": [
    {
     "data": {
      "text/plain": [
       "0.036447517859182946"
      ]
     },
     "execution_count": 11,
     "metadata": {},
     "output_type": "execute_result"
    }
   ],
   "source": [
    "np.mean(train[\"target\"]) #Rate of 1 in the 'target' column"
   ]
  },
  {
   "cell_type": "markdown",
   "metadata": {},
   "source": [
    "We have only about 4% of filed claims for that policy holder. This is a highly imbalanced dataset. This is not surprising since people don't change file insurance every year. In general, they do so when they acquire a new vehicle. Since the percentage of file claims is very low, we can understand why the company is having a hard time predicting it.\n",
    "\n",
    "\"\"\"\n",
    "We need to **oversample** values leading to **target=1**  \n",
    "or **undersample** the other ones  \n",
    "We choose the first method\n",
    "\"\"\"\""
   ]
  },
  {
   "cell_type": "markdown",
   "metadata": {},
   "source": [
    "## Dataset treatment\n",
    "### Treating missing variables"
   ]
  },
  {
   "cell_type": "markdown",
   "metadata": {
    "nbpresent": {
     "id": "0924a8d0-d52f-474f-bd68-339a3edf1eba"
    }
   },
   "source": [
    "# Model Building"
   ]
  },
  {
   "cell_type": "markdown",
   "metadata": {
    "nbpresent": {
     "id": "a93a9995-5bdb-4d7a-ad9d-3dda8c6a9732"
    }
   },
   "source": [
    "# Conclusion"
   ]
  },
  {
   "cell_type": "markdown",
   "metadata": {
    "nbpresent": {
     "id": "90cc640a-a3f3-47de-a1dd-2706e6b5be95"
    }
   },
   "source": [
    "# Sources"
   ]
  },
  {
   "cell_type": "code",
   "execution_count": null,
   "metadata": {
    "collapsed": false,
    "nbpresent": {
     "id": "76bd6143-5ffd-4d31-bc67-088dbaf4023c"
    }
   },
   "outputs": [],
   "source": []
  }
 ],
 "metadata": {
  "anaconda-cloud": {},
  "kernelspec": {
   "display_name": "Python [default]",
   "language": "python",
   "name": "python2"
  },
  "language_info": {
   "codemirror_mode": {
    "name": "ipython",
    "version": 2
   },
   "file_extension": ".py",
   "mimetype": "text/x-python",
   "name": "python",
   "nbconvert_exporter": "python",
   "pygments_lexer": "ipython2",
   "version": "2.7.12"
  },
  "nbpresent": {
   "slides": {
    "2a1f0902-cb82-495c-90c2-0e7caf4b9d8b": {
     "id": "2a1f0902-cb82-495c-90c2-0e7caf4b9d8b",
     "prev": "4ab9239e-b5f7-4a95-80b7-75f5c4f7bf7f",
     "regions": {
      "32610131-5b21-4443-b612-29720f4f7e2f": {
       "attrs": {
        "height": 0.8,
        "width": 0.8,
        "x": 0.1,
        "y": 0.1
       },
       "content": {
        "cell": "76bd6143-5ffd-4d31-bc67-088dbaf4023c",
        "part": "whole"
       },
       "id": "32610131-5b21-4443-b612-29720f4f7e2f"
      }
     }
    },
    "2e12d83c-a633-4bed-a167-514e62a578dc": {
     "id": "2e12d83c-a633-4bed-a167-514e62a578dc",
     "prev": "9693e0b2-b404-42c9-8b37-3eb25c41637d",
     "regions": {
      "aaf8534b-3b03-4191-b0f4-92d43f4c67f9": {
       "attrs": {
        "height": 0.8,
        "width": 0.8,
        "x": 0.1,
        "y": 0.1
       },
       "content": {
        "cell": "4acdc595-b193-4541-bbdd-92e0682ec001",
        "part": "whole"
       },
       "id": "aaf8534b-3b03-4191-b0f4-92d43f4c67f9"
      }
     }
    },
    "4ab9239e-b5f7-4a95-80b7-75f5c4f7bf7f": {
     "id": "4ab9239e-b5f7-4a95-80b7-75f5c4f7bf7f",
     "prev": "67db4451-c72f-4576-a2b7-641cdd65d4e5",
     "regions": {
      "b68ee4c5-4085-411e-8240-d1afbc0ddd0e": {
       "attrs": {
        "height": 0.8,
        "width": 0.8,
        "x": 0.1,
        "y": 0.1
       },
       "content": {
        "cell": "90cc640a-a3f3-47de-a1dd-2706e6b5be95",
        "part": "whole"
       },
       "id": "b68ee4c5-4085-411e-8240-d1afbc0ddd0e"
      }
     }
    },
    "67db4451-c72f-4576-a2b7-641cdd65d4e5": {
     "id": "67db4451-c72f-4576-a2b7-641cdd65d4e5",
     "prev": "a1e87d06-d03e-4a35-915d-4f76c54e774a",
     "regions": {
      "a741dd1d-2743-4e3e-bbc3-81d47147d83a": {
       "attrs": {
        "height": 0.8,
        "width": 0.8,
        "x": 0.1,
        "y": 0.1
       },
       "content": {
        "cell": "a93a9995-5bdb-4d7a-ad9d-3dda8c6a9732",
        "part": "whole"
       },
       "id": "a741dd1d-2743-4e3e-bbc3-81d47147d83a"
      }
     }
    },
    "6b6cf12e-d612-4eb2-bdaf-9dc3026b29c8": {
     "id": "6b6cf12e-d612-4eb2-bdaf-9dc3026b29c8",
     "prev": "2e12d83c-a633-4bed-a167-514e62a578dc",
     "regions": {
      "4c0424f4-97e9-4cc7-a314-47feededc603": {
       "attrs": {
        "height": 0.8,
        "width": 0.8,
        "x": 0.1,
        "y": 0.1
       },
       "content": {
        "cell": "a6537715-9204-4350-b1a2-d468fafcd4b2",
        "part": "whole"
       },
       "id": "4c0424f4-97e9-4cc7-a314-47feededc603"
      }
     }
    },
    "9693e0b2-b404-42c9-8b37-3eb25c41637d": {
     "id": "9693e0b2-b404-42c9-8b37-3eb25c41637d",
     "prev": "fc662112-c50a-40fe-aa01-45659afdc07e",
     "regions": {
      "5fc53f15-a4b6-4145-84a2-7593049c4909": {
       "attrs": {
        "height": 0.8,
        "width": 0.8,
        "x": 0.1,
        "y": 0.1
       },
       "content": {
        "cell": "df95d311-2ee5-4de8-812f-cae4acd76c39",
        "part": "whole"
       },
       "id": "5fc53f15-a4b6-4145-84a2-7593049c4909"
      }
     }
    },
    "a1e87d06-d03e-4a35-915d-4f76c54e774a": {
     "id": "a1e87d06-d03e-4a35-915d-4f76c54e774a",
     "prev": "6b6cf12e-d612-4eb2-bdaf-9dc3026b29c8",
     "regions": {
      "18a1ecb9-3e16-4bf9-beba-a7741fbb616f": {
       "attrs": {
        "height": 0.8,
        "width": 0.8,
        "x": 0.1,
        "y": 0.1
       },
       "content": {
        "cell": "0924a8d0-d52f-474f-bd68-339a3edf1eba",
        "part": "whole"
       },
       "id": "18a1ecb9-3e16-4bf9-beba-a7741fbb616f"
      }
     }
    },
    "fc662112-c50a-40fe-aa01-45659afdc07e": {
     "id": "fc662112-c50a-40fe-aa01-45659afdc07e",
     "prev": null,
     "regions": {
      "4d2f83bb-446d-4dc6-9aeb-fa228e774d8f": {
       "attrs": {
        "height": 0.8,
        "width": 0.8,
        "x": 0.1,
        "y": 0.1
       },
       "content": {
        "cell": "f077990f-f900-41a2-813f-ed6a132af703",
        "part": "whole"
       },
       "id": "4d2f83bb-446d-4dc6-9aeb-fa228e774d8f"
      }
     }
    }
   },
   "themes": {}
  }
 },
 "nbformat": 4,
 "nbformat_minor": 1
}
